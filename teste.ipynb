{
 "cells": [
  {
   "cell_type": "code",
   "execution_count": null,
   "metadata": {},
   "outputs": [],
   "source": [
    "nota1 = 10\n",
    "nota2 = 8\n",
    "\n",
    "media = (nota1 + nota2)/2\n",
    "\n",
    "print(f\"A média é: {media}\")"
   ]
  },
  {
   "cell_type": "code",
   "execution_count": 4,
   "metadata": {},
   "outputs": [
    {
     "name": "stdout",
     "output_type": "stream",
     "text": [
      "Aprovado!\n"
     ]
    }
   ],
   "source": [
    "nota1 = int(input(\"Digite nota 1: \"))\n",
    "nota2 = int(input(\"Digite nota 2: \"))\n",
    "frequencia = int(input(\"Digite a frequência do aluno: \"))\n",
    "\n",
    "media = (nota1 + nota2)/2\n",
    "\n",
    "if media > 7 & frequencia >= 75:\n",
    "    print(\"Aprovado!\")\n",
    "else:\n",
    "    print(\"Reprovado!\")"
   ]
  },
  {
   "cell_type": "code",
   "execution_count": 15,
   "metadata": {},
   "outputs": [
    {
     "data": {
      "text/plain": [
       "'B'"
      ]
     },
     "execution_count": 15,
     "metadata": {},
     "output_type": "execute_result"
    }
   ],
   "source": [
    "A = int(input(\"Digite um número: \"))\n",
    "B = int(input(\"Digite um número: \"))\n",
    "\n",
    "def AnaliseMaior(A, B):\n",
    "    if A > B:\n",
    "        return(\"A\")\n",
    "    else:\n",
    "        return(\"B\")\n",
    "    \n",
    "AnaliseMaior(A,B)"
   ]
  }
 ],
 "metadata": {
  "kernelspec": {
   "display_name": "Python 3",
   "language": "python",
   "name": "python3"
  },
  "language_info": {
   "codemirror_mode": {
    "name": "ipython",
    "version": 3
   },
   "file_extension": ".py",
   "mimetype": "text/x-python",
   "name": "python",
   "nbconvert_exporter": "python",
   "pygments_lexer": "ipython3",
   "version": "3.11.4"
  },
  "orig_nbformat": 4
 },
 "nbformat": 4,
 "nbformat_minor": 2
}
