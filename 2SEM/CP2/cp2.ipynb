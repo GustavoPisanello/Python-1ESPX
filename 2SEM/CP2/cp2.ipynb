{
 "cells": [
  {
   "cell_type": "code",
   "execution_count": 12,
   "metadata": {},
   "outputs": [
    {
     "name": "stdout",
     "output_type": "stream",
     "text": [
      "As temperaturas abaixo da média são: [16, 17, 18, 19, 20]\n",
      "E as temperaturas acima da média são: [21, 22, 23, 24, 25]\n"
     ]
    }
   ],
   "source": [
    "dias = [16, 17, 18, 19, 20, 21, 22, 23, 24, 25]\n",
    "temperaturas = [32, 33, 34, 34, 30, 21, 24, 28, 32, 30]\n",
    "\n",
    "def calcularMedia(x):\n",
    "    soma = 0\n",
    "    for i in x:\n",
    "        soma += i\n",
    "    \n",
    "    media = soma/len(x)\n",
    "\n",
    "    temp_abaixo = list(filter(lambda y: y < media, x))\n",
    "    temp_acima = list(filter(lambda y: y > media, x))\n",
    "\n",
    "    return temp_abaixo, temp_acima\n",
    "\n",
    "abaixo, acima = calcularMedia(dias)\n",
    "\n",
    "print(f\"As temperaturas abaixo da média são: {abaixo}\\nE as temperaturas acima da média são: {acima}\")"
   ]
  },
  {
   "cell_type": "code",
   "execution_count": 55,
   "metadata": {},
   "outputs": [
    {
     "name": "stdout",
     "output_type": "stream",
     "text": [
      "Os Emails do domínio 'gmail' são os seguintes: ['joao@gmail.com', 'carlos@gmail.com', 'paulo@gmail.com', 'roberto@gmail.com']\n",
      "Os Emails do domínio 'hotmail' são os seguintes: ['ana@hotmail.com', 'claudia@hotmail.com']\n",
      "Os Emails do domínio 'yahoo' são os seguintes: ['maria@yahoo.com.com', 'pedro@yahoo.com']\n"
     ]
    }
   ],
   "source": [
    "emails = [\n",
    "    'joao@gmail.com',\n",
    "    'maria@yahoo.com.com',\n",
    "    'carlos@gmail.com',\n",
    "    'ana@hotmail.com',\n",
    "    'paulo@gmail.com',\n",
    "    'pedro@yahoo.com',\n",
    "    'claudia@hotmail.com',\n",
    "    'roberto@gmail.com'\n",
    "]\n",
    "\n",
    "gmails = list(filter(lambda x: \"@gmail\" in x, emails))\n",
    "print(f\"Os Emails do domínio 'gmail' são os seguintes: {gmails}\")\n",
    "\n",
    "hotmails = list(filter(lambda x: \"@hotmail\" in x, emails))\n",
    "print(f\"Os Emails do domínio 'hotmail' são os seguintes: {hotmails}\")\n",
    "\n",
    "yahoos = list(filter(lambda x: \"@yahoo\" in x, emails))\n",
    "print(f\"Os Emails do domínio 'yahoo' são os seguintes: {yahoos}\")"
   ]
  },
  {
   "cell_type": "code",
   "execution_count": 211,
   "metadata": {},
   "outputs": [
    {
     "name": "stdout",
     "output_type": "stream",
     "text": [
      "['SP', 'RJ', 'RN', 'TO', 'CE', 'MA', 'PI', 'SC'] [10, 45, 10, 5, 32, 105, 18, 34]\n",
      "[('SP', 10), ('RJ', 45), ('RN', 10), ('TO', 5), ('CE', 32), ('MA', 105), ('PI', 18), ('SC', 34)]\n"
     ]
    }
   ],
   "source": [
    "cidades = [\n",
    "    'SP',\n",
    "    'RJ',\n",
    "    'RN',\n",
    "    'SE',\n",
    "    'TO',\n",
    "    'CE',\n",
    "    'DF',\n",
    "    'MA',\n",
    "    'PI',\n",
    "    'SC'\n",
    "]\n",
    "\n",
    "chuvas = [10, 45 , 10, 0, 5, 32 , 0, 105 , 18 ,34]\n",
    "\n",
    "cidadesEChuvas = []\n",
    "\n",
    "def relacionaDados(x, y):\n",
    "    chuvas_atualizadas, cidades_com_chuva  = TiraChuva(x, y)\n",
    "    print(cidades_com_chuva, chuvas_atualizadas)\n",
    "    \n",
    "    for i in range(0, len(cidades_com_chuva)):\n",
    "        cidadesEChuvas.append((cidades_com_chuva[i], chuvas_atualizadas[i]))\n",
    "    \n",
    "    return cidadesEChuvas\n",
    "\n",
    "def TiraChuva(x, y):\n",
    "    sem_chuva = x.index(0)\n",
    "    y.pop(sem_chuva)\n",
    "    x.pop(sem_chuva)\n",
    "    sem_chuva = chuvas.index(0)\n",
    "    y.pop(sem_chuva)\n",
    "    x.pop(sem_chuva)\n",
    "\n",
    "    return x, y\n",
    "\n",
    "print(relacionaDados(chuvas, cidades))\n"
   ]
  },
  {
   "cell_type": "code",
   "execution_count": 227,
   "metadata": {},
   "outputs": [
    {
     "ename": "ValueError",
     "evalue": "[15, 20] is not in list",
     "output_type": "error",
     "traceback": [
      "\u001b[1;31m---------------------------------------------------------------------------\u001b[0m",
      "\u001b[1;31mValueError\u001b[0m                                Traceback (most recent call last)",
      "Cell \u001b[1;32mIn[227], line 19\u001b[0m\n\u001b[0;32m     15\u001b[0m     soma \u001b[38;5;241m+\u001b[39m\u001b[38;5;241m=\u001b[39m i\n\u001b[0;32m     17\u001b[0m media \u001b[38;5;241m=\u001b[39m soma \u001b[38;5;241m/\u001b[39m \u001b[38;5;28mlen\u001b[39m(congestionamento_km)\n\u001b[1;32m---> 19\u001b[0m maiores_velocidades \u001b[38;5;241m=\u001b[39m \u001b[43mmaiores_velocidades\u001b[49m\u001b[38;5;241;43m.\u001b[39;49m\u001b[43mindex\u001b[49m\u001b[43m(\u001b[49m\u001b[38;5;28;43mlist\u001b[39;49m\u001b[43m(\u001b[49m\u001b[38;5;28;43mfilter\u001b[39;49m\u001b[43m(\u001b[49m\u001b[38;5;28;43;01mlambda\u001b[39;49;00m\u001b[43m \u001b[49m\u001b[43mx\u001b[49m\u001b[43m:\u001b[49m\u001b[43m \u001b[49m\u001b[43mx\u001b[49m\u001b[43m \u001b[49m\u001b[38;5;241;43m>\u001b[39;49m\u001b[43m \u001b[49m\u001b[43mmedia\u001b[49m\u001b[43m,\u001b[49m\u001b[43m \u001b[49m\u001b[43mcongestionamento_km\u001b[49m\u001b[43m)\u001b[49m\u001b[43m)\u001b[49m\u001b[43m)\u001b[49m\n\u001b[0;32m     21\u001b[0m \u001b[38;5;28mprint\u001b[39m(maiores_velocidades)\n",
      "\u001b[1;31mValueError\u001b[0m: [15, 20] is not in list"
     ]
    }
   ],
   "source": [
    "bairros = [\n",
    "    'centro',\n",
    "    'moema',\n",
    "    'pinheiros',\n",
    "    'vila mariana',\n",
    "    'itaim bibi'\n",
    "]\n",
    "\n",
    "congestionamento_km = [10, 8, 15, 12, 20]\n",
    "\n",
    "velocidade_media = [15, 20, 12, 18, 10]\n",
    "\n",
    "soma = 0\n",
    "for i in congestionamento_km:\n",
    "    soma += i\n",
    "\n",
    "media = soma / len(congestionamento_km)\n",
    "\n",
    "maiores_velocidades = list(filter(lambda x: x > media, congestionamento_km)) \n",
    "\n",
    "\n",
    "\n",
    "print(maiores_velocidades)"
   ]
  },
  {
   "cell_type": "code",
   "execution_count": null,
   "metadata": {},
   "outputs": [
    {
     "name": "stdout",
     "output_type": "stream",
     "text": [
      "8\n"
     ]
    }
   ],
   "source": [
    "inputs = []\n",
    "\n",
    "\n",
    "i = 0\n",
    "while i < 2:\n",
    "    cidade = []\n",
    "    for z in range(0, 2):\n",
    "        temp = int(input(f\"Digite a {i + 1}° temperatura: \"))\n",
    "        cidade.append(temp)\n",
    "    inputs.append(cidade)\n",
    "    i+= 1\n",
    "\n",
    "def mediaGlobal(x):\n",
    "    somaTemp = 0\n",
    "    for i in x:\n",
    "        for z in i:\n",
    "            somaTemp += z\n",
    "    \n",
    "    mediaTemp = somaTemp / (len(x) * len(x[0]))\n",
    "\n",
    "    return mediaTemp\n",
    "\n",
    "mediasInd = []\n",
    "\n",
    "def medias(x):\n",
    "    somas = somas(x);\n",
    "    somasind = []\n",
    "    soma = 0\n",
    "    for i in somas:\n",
    "        soma += i\n",
    "        somasInd.append(soma)\n",
    "    \n",
    "    medias = []\n",
    "    media = 0\n",
    "    for z in somasInd:\n",
    "        media = z / len(somasInd)\n",
    "        medias.append(media)\n",
    "\n",
    "    return medias\n",
    "\n",
    "def somas(x):\n",
    "    somas = []\n",
    "    for i in x:\n",
    "        somar = sum(i)\n",
    "        somas.append(somar)\n",
    "\n",
    "    return somas\n",
    "\n",
    "\n",
    "print(medias(inputs))\n",
    "\n"
   ]
  }
 ],
 "metadata": {
  "kernelspec": {
   "display_name": "Python 3",
   "language": "python",
   "name": "python3"
  },
  "language_info": {
   "codemirror_mode": {
    "name": "ipython",
    "version": 3
   },
   "file_extension": ".py",
   "mimetype": "text/x-python",
   "name": "python",
   "nbconvert_exporter": "python",
   "pygments_lexer": "ipython3",
   "version": "3.12.3"
  }
 },
 "nbformat": 4,
 "nbformat_minor": 2
}
