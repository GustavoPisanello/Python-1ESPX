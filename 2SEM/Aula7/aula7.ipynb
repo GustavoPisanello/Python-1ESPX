{
 "cells": [
  {
   "cell_type": "markdown",
   "metadata": {},
   "source": [
    "Aula 7 - 20/09/2024"
   ]
  },
  {
   "cell_type": "code",
   "execution_count": null,
   "metadata": {},
   "outputs": [],
   "source": [
    "def divisao(a, b):\n",
    "    operacao_divisao = a / b\n",
    "    return operacao_divisao"
   ]
  },
  {
   "cell_type": "code",
   "execution_count": 1,
   "metadata": {},
   "outputs": [
    {
     "data": {
      "text/plain": [
       "4.0"
      ]
     },
     "execution_count": 1,
     "metadata": {},
     "output_type": "execute_result"
    }
   ],
   "source": [
    "resultado = lambda a, b: a / b\n",
    "\n",
    "resultado(20, 5)"
   ]
  },
  {
   "cell_type": "code",
   "execution_count": 8,
   "metadata": {},
   "outputs": [
    {
     "ename": "SyntaxError",
     "evalue": "unterminated f-string literal (detected at line 11) (192578616.py, line 11)",
     "output_type": "error",
     "traceback": [
      "\u001b[1;36m  Cell \u001b[1;32mIn[8], line 11\u001b[1;36m\u001b[0m\n\u001b[1;33m    print(f\"{subtracao(20, 5)}\\n\u001b[0m\n\u001b[1;37m          ^\u001b[0m\n\u001b[1;31mSyntaxError\u001b[0m\u001b[1;31m:\u001b[0m unterminated f-string literal (detected at line 11)\n"
     ]
    }
   ],
   "source": [
    "subtracao = lambda a, b: a - b\n",
    "soma = lambda a, b: a + b\n",
    "mult = lambda a, b: a * b\n",
    "div = lambda a, b: a / b\n",
    "\n",
    "print(subtracao(20, 5))\n",
    "print(soma(20, 5))\n",
    "print(mult(20, 5))\n",
    "print(div(20, 5))\n",
    "\n",
    "print(f\"{subtracao(20, 5)}\\n\n",
    "{soma(20, 5})\\n\n",
    "{mult(20, 5)}\\n\n",
    "{div(20, 5)}\")"
   ]
  },
  {
   "cell_type": "code",
   "execution_count": 11,
   "metadata": {},
   "outputs": [
    {
     "name": "stdout",
     "output_type": "stream",
     "text": [
      "python é monstro\n"
     ]
    }
   ],
   "source": [
    "concatena = lambda s1, s2: s1 + \" é \" + s2\n",
    "\n",
    "print(concatena('python', 'monstro'))"
   ]
  },
  {
   "cell_type": "code",
   "execution_count": 17,
   "metadata": {},
   "outputs": [
    {
     "name": "stdout",
     "output_type": "stream",
     "text": [
      "HOJE É SEXTA FEIRA\n",
      "sábado terá jogo do brasileiro\n"
     ]
    }
   ],
   "source": [
    "maiusculas = lambda s: s.upper()\n",
    "minusculas = lambda s: s.lower()\n",
    "\n",
    "print(maiusculas(\"hoje é sexta feira\"))\n",
    "print(minusculas(\"SÁBADO TERÁ JOGO DO BRASILEIRO\"))"
   ]
  },
  {
   "cell_type": "code",
   "execution_count": 18,
   "metadata": {},
   "outputs": [
    {
     "name": "stdout",
     "output_type": "stream",
     "text": [
      "A\n"
     ]
    }
   ],
   "source": [
    "nota = float(input(\"Digite um número: \"))\n",
    "\n",
    "if nota >= 7:\n",
    "    print(\"A\")\n",
    "\n",
    "elif 5<= nota < 7:\n",
    "    print(\"B\")\n",
    "else:\n",
    "    print(\"C\")"
   ]
  },
  {
   "cell_type": "code",
   "execution_count": 19,
   "metadata": {},
   "outputs": [],
   "source": [
    "def conceito(nota):\n",
    "    nota = float(inpt(\"Digite um número: \"))\n",
    "\n",
    "    if nota >=7:\n",
    "        return \"A\"\n",
    "    else:\n",
    "        return \"B\""
   ]
  },
  {
   "cell_type": "code",
   "execution_count": 22,
   "metadata": {},
   "outputs": [
    {
     "data": {
      "text/plain": [
       "'B'"
      ]
     },
     "execution_count": 22,
     "metadata": {},
     "output_type": "execute_result"
    }
   ],
   "source": [
    "avaliacao = lambda nota: \"A\" if nota >= 7 else \"B\"\n",
    "\n",
    "avaliacao(5)"
   ]
  },
  {
   "cell_type": "code",
   "execution_count": 26,
   "metadata": {},
   "outputs": [
    {
     "data": {
      "text/plain": [
       "'C'"
      ]
     },
     "execution_count": 26,
     "metadata": {},
     "output_type": "execute_result"
    }
   ],
   "source": [
    "avaliacao = lambda nota: \"A\" if nota >= 7 else(\"B\" if nota >= 5 else \"C\")\n",
    "\n",
    "avaliacao(4)"
   ]
  },
  {
   "cell_type": "code",
   "execution_count": 31,
   "metadata": {},
   "outputs": [
    {
     "name": "stdout",
     "output_type": "stream",
     "text": [
      "Adulto\n"
     ]
    }
   ],
   "source": [
    "EsVelho = lambda idade: \"Idoso\" if idade >= 60 else(\"Adulto\" if idade >= 18 else(\"Adolescente\" if idade >= 12 else \"Criança\"))\n",
    "\n",
    "print(EsVelho(50))"
   ]
  },
  {
   "cell_type": "code",
   "execution_count": 36,
   "metadata": {},
   "outputs": [
    {
     "name": "stdout",
     "output_type": "stream",
     "text": [
      "[1, 4, 9, 16, 25]\n"
     ]
    }
   ],
   "source": [
    "numeros = [1, 2, 3, 4, 5]\n",
    "\n",
    "quadrado = list(map(lambda x: x**2, numeros))\n",
    "\n",
    "print(quadrado)"
   ]
  },
  {
   "cell_type": "code",
   "execution_count": 40,
   "metadata": {},
   "outputs": [
    {
     "name": "stdout",
     "output_type": "stream",
     "text": [
      "['PYTHON', 'É', 'MUITO', 'UTILIZADO', 'PARA', 'DATA SCIENCE']\n"
     ]
    }
   ],
   "source": [
    "palavras = ['python', 'é', 'muito', 'utilizado', 'para', 'data science']\n",
    "maiusculas = list(map(lambda palavra: palavra.upper(), palavras))\n",
    "\n",
    "print(maiusculas)"
   ]
  },
  {
   "cell_type": "code",
   "execution_count": 48,
   "metadata": {},
   "outputs": [
    {
     "name": "stdout",
     "output_type": "stream",
     "text": [
      "[2, 4]\n"
     ]
    }
   ],
   "source": [
    "numeros = [1, 2, 3, 4, 5]\n",
    "\n",
    "pares = list(filter(lambda x: x % 2 == 0, numeros))\n",
    "print(pares)"
   ]
  },
  {
   "cell_type": "code",
   "execution_count": 50,
   "metadata": {},
   "outputs": [
    {
     "name": "stdout",
     "output_type": "stream",
     "text": [
      "[4, 4, 5, 8]\n"
     ]
    }
   ],
   "source": [
    "palavras = ['casa', 'moto', 'carro', 'caminhao']\n",
    "\n",
    "comprimento_palavras = list(map(lambda w: len(w), palavras))\n",
    "\n",
    "print(comprimento_palavras)"
   ]
  },
  {
   "cell_type": "code",
   "execution_count": 51,
   "metadata": {},
   "outputs": [
    {
     "name": "stdout",
     "output_type": "stream",
     "text": [
      "['casa', 'carro', 'caminhao']\n"
     ]
    }
   ],
   "source": [
    "palavras = ['casa', 'moto', 'carro', 'caminhao']\n",
    "\n",
    "selecao_caractere = list(filter(lambda x: x.startswith('c'), palavras))\n",
    "print(selecao_caractere)"
   ]
  },
  {
   "cell_type": "code",
   "execution_count": 56,
   "metadata": {},
   "outputs": [
    {
     "name": "stdout",
     "output_type": "stream",
     "text": [
      "['Olá, ana!', 'Olá, john!', 'Olá, mark!', 'Olá, camila!']\n"
     ]
    }
   ],
   "source": [
    "nomes = ['ana', 'john', 'mark', 'camila']\n",
    "\n",
    "texto_formatado = list(map(lambda x: f\"Olá, {x}!\", nomes))\n",
    "\n",
    "print(texto_formatado)"
   ]
  },
  {
   "cell_type": "code",
   "execution_count": 59,
   "metadata": {},
   "outputs": [
    {
     "name": "stdout",
     "output_type": "stream",
     "text": [
      "[('banana', 5), ('laranja', 10), ('maça', 2), ('morango', 3)]\n"
     ]
    }
   ],
   "source": [
    "lista_tuplas = [('maça', 2),('banana', 5),('laranja', 10),('morango', 3)]\n",
    "\n",
    "ordena = sorted(lista_tuplas, key = lambda x: x[0])\n",
    "print(ordena)"
   ]
  },
  {
   "cell_type": "code",
   "execution_count": 80,
   "metadata": {},
   "outputs": [
    {
     "ename": "TypeError",
     "evalue": "'list' object cannot be interpreted as an integer",
     "output_type": "error",
     "traceback": [
      "\u001b[1;31m---------------------------------------------------------------------------\u001b[0m",
      "\u001b[1;31mTypeError\u001b[0m                                 Traceback (most recent call last)",
      "Cell \u001b[1;32mIn[80], line 3\u001b[0m\n\u001b[0;32m      1\u001b[0m lista_tuplas \u001b[38;5;241m=\u001b[39m [[\u001b[38;5;124m'\u001b[39m\u001b[38;5;124mmaça\u001b[39m\u001b[38;5;124m'\u001b[39m, \u001b[38;5;241m2\u001b[39m],[\u001b[38;5;124m'\u001b[39m\u001b[38;5;124mbanana\u001b[39m\u001b[38;5;124m'\u001b[39m, \u001b[38;5;241m5\u001b[39m],[\u001b[38;5;124m'\u001b[39m\u001b[38;5;124mlaranja\u001b[39m\u001b[38;5;124m'\u001b[39m, \u001b[38;5;241m10\u001b[39m],[\u001b[38;5;124m'\u001b[39m\u001b[38;5;124mmorango\u001b[39m\u001b[38;5;124m'\u001b[39m, \u001b[38;5;241m3\u001b[39m]]\n\u001b[1;32m----> 3\u001b[0m maiorQue3 \u001b[38;5;241m=\u001b[39m \u001b[38;5;28;43mlist\u001b[39;49m\u001b[43m(\u001b[49m\u001b[38;5;28;43mmap\u001b[39;49m\u001b[43m(\u001b[49m\u001b[38;5;28;43;01mlambda\u001b[39;49;00m\u001b[43m \u001b[49m\u001b[43mx\u001b[49m\u001b[43m:\u001b[49m\u001b[43m \u001b[49m\u001b[43mx\u001b[49m\u001b[43m[\u001b[49m\u001b[38;5;241;43m0\u001b[39;49m\u001b[43m]\u001b[49m\u001b[43m \u001b[49m\u001b[38;5;28;43;01mif\u001b[39;49;00m\u001b[43m \u001b[49m\u001b[43mx\u001b[49m\u001b[43m[\u001b[49m\u001b[38;5;241;43m1\u001b[39;49m\u001b[43m]\u001b[49m\u001b[43m \u001b[49m\u001b[38;5;241;43m>\u001b[39;49m\u001b[43m \u001b[49m\u001b[38;5;241;43m3\u001b[39;49m\u001b[43m \u001b[49m\u001b[38;5;28;43;01melse\u001b[39;49;00m\u001b[43m \u001b[49m\u001b[43mlista_tuplas\u001b[49m\u001b[38;5;241;43m.\u001b[39;49m\u001b[43mpop\u001b[49m\u001b[43m(\u001b[49m\u001b[43mx\u001b[49m\u001b[43m)\u001b[49m\u001b[43m,\u001b[49m\u001b[43m \u001b[49m\u001b[43mlista_tuplas\u001b[49m\u001b[43m)\u001b[49m\u001b[43m)\u001b[49m \n\u001b[0;32m      4\u001b[0m \u001b[38;5;28mprint\u001b[39m(maiorQue3)\n",
      "Cell \u001b[1;32mIn[80], line 3\u001b[0m, in \u001b[0;36m<lambda>\u001b[1;34m(x)\u001b[0m\n\u001b[0;32m      1\u001b[0m lista_tuplas \u001b[38;5;241m=\u001b[39m [[\u001b[38;5;124m'\u001b[39m\u001b[38;5;124mmaça\u001b[39m\u001b[38;5;124m'\u001b[39m, \u001b[38;5;241m2\u001b[39m],[\u001b[38;5;124m'\u001b[39m\u001b[38;5;124mbanana\u001b[39m\u001b[38;5;124m'\u001b[39m, \u001b[38;5;241m5\u001b[39m],[\u001b[38;5;124m'\u001b[39m\u001b[38;5;124mlaranja\u001b[39m\u001b[38;5;124m'\u001b[39m, \u001b[38;5;241m10\u001b[39m],[\u001b[38;5;124m'\u001b[39m\u001b[38;5;124mmorango\u001b[39m\u001b[38;5;124m'\u001b[39m, \u001b[38;5;241m3\u001b[39m]]\n\u001b[1;32m----> 3\u001b[0m maiorQue3 \u001b[38;5;241m=\u001b[39m \u001b[38;5;28mlist\u001b[39m(\u001b[38;5;28mmap\u001b[39m(\u001b[38;5;28;01mlambda\u001b[39;00m x: x[\u001b[38;5;241m0\u001b[39m] \u001b[38;5;28;01mif\u001b[39;00m x[\u001b[38;5;241m1\u001b[39m] \u001b[38;5;241m>\u001b[39m \u001b[38;5;241m3\u001b[39m \u001b[38;5;28;01melse\u001b[39;00m \u001b[43mlista_tuplas\u001b[49m\u001b[38;5;241;43m.\u001b[39;49m\u001b[43mpop\u001b[49m\u001b[43m(\u001b[49m\u001b[43mx\u001b[49m\u001b[43m)\u001b[49m, lista_tuplas)) \n\u001b[0;32m      4\u001b[0m \u001b[38;5;28mprint\u001b[39m(maiorQue3)\n",
      "\u001b[1;31mTypeError\u001b[0m: 'list' object cannot be interpreted as an integer"
     ]
    }
   ],
   "source": [
    "lista_tuplas = [('maça', 2),('banana', 5),('laranja', 10),('morango', 3)]\n",
    "\n",
    "maiorQue3 = list(map(lambda x: x[0] if x[1] > 3 else \"\", lista_tuplas)) \n",
    "print(maiorQue3)"
   ]
  },
  {
   "cell_type": "code",
   "execution_count": 82,
   "metadata": {},
   "outputs": [
    {
     "name": "stdout",
     "output_type": "stream",
     "text": [
      "[('maça', 2), ('morango', 3)]\n"
     ]
    }
   ],
   "source": [
    "lista_tuplas = [('maça', 2),('banana', 5),('laranja', 10),('morango', 3)]\n",
    "\n",
    "letraM = list(filter(lambda x: x[0].startswith('m'), lista_tuplas))\n",
    "print(letraM)"
   ]
  },
  {
   "cell_type": "code",
   "execution_count": 96,
   "metadata": {},
   "outputs": [
    {
     "name": "stdout",
     "output_type": "stream",
     "text": [
      "['MAÇA', 'MORANGO']\n"
     ]
    }
   ],
   "source": [
    "lista_tuplas = [('maça', 2),('banana', 5),('laranja', 10),('morango', 3)]\n",
    "\n",
    "filtro = list(map(lambda x: x[0].upper(), filter(lambda x: x[0].startswith('m'), lista_tuplas)))\n",
    "print(filtro)"
   ]
  },
  {
   "cell_type": "code",
   "execution_count": 121,
   "metadata": {},
   "outputs": [
    {
     "name": "stdout",
     "output_type": "stream",
     "text": [
      "O salário do(a) João é de: 2200.0\n",
      "O salário do(a) Maria é de: 3000\n",
      "O salário do(a) Pedro é de: 1650.0\n",
      "O salário do(a) Ana é de: 2500\n",
      "O salário do(a) Gustavo é de: 7.7\n"
     ]
    }
   ],
   "source": [
    "#Exercício 3\n",
    "\n",
    "funcionarios = [(\"João\", 2000), (\"Maria\", 3000), (\"Pedro\", 1500), (\"Ana\", 2500), (\"Gustavo\", 7)]\n",
    "limite_salario = 2500\n",
    "bonificacao = 0.1\n",
    "\n",
    "bonus = list(map(lambda x: f\"O salário do(a) {x[0]} é de: {x[1] + (x[1] * bonificacao)}\" if x[1] < limite_salario else f\"O salário do(a) {x[0]} é de: {x[1]}\", funcionarios))\n",
    "\n",
    "for i in bonus:\n",
    "    print(i)"
   ]
  },
  {
   "cell_type": "code",
   "execution_count": 122,
   "metadata": {},
   "outputs": [
    {
     "ename": "AttributeError",
     "evalue": "'str' object has no attribute 'contains'",
     "output_type": "error",
     "traceback": [
      "\u001b[1;31m---------------------------------------------------------------------------\u001b[0m",
      "\u001b[1;31mAttributeError\u001b[0m                            Traceback (most recent call last)",
      "Cell \u001b[1;32mIn[122], line 6\u001b[0m\n\u001b[0;32m      3\u001b[0m emails \u001b[38;5;241m=\u001b[39m [\u001b[38;5;124m\"\u001b[39m\u001b[38;5;124mana@gmail.com\u001b[39m\u001b[38;5;124m\"\u001b[39m, \u001b[38;5;124m\"\u001b[39m\u001b[38;5;124mbruno@yahoo.com\u001b[39m\u001b[38;5;124m\"\u001b[39m, \u001b[38;5;124m\"\u001b[39m\u001b[38;5;124mcarla@gmail.com\u001b[39m\u001b[38;5;124m\"\u001b[39m, \u001b[38;5;124m\"\u001b[39m\u001b[38;5;124mdaniel@hotmail.com\u001b[39m\u001b[38;5;124m\"\u001b[39m]\n\u001b[0;32m      4\u001b[0m dominio \u001b[38;5;241m=\u001b[39m \u001b[38;5;124m\"\u001b[39m\u001b[38;5;124m@gmail.com\u001b[39m\u001b[38;5;124m\"\u001b[39m\n\u001b[1;32m----> 6\u001b[0m filtro \u001b[38;5;241m=\u001b[39m \u001b[38;5;28;43mlist\u001b[39;49m\u001b[43m(\u001b[49m\u001b[38;5;28;43mfilter\u001b[39;49m\u001b[43m(\u001b[49m\u001b[38;5;28;43;01mlambda\u001b[39;49;00m\u001b[43m \u001b[49m\u001b[43mx\u001b[49m\u001b[43m:\u001b[49m\u001b[43m \u001b[49m\u001b[43mx\u001b[49m\u001b[38;5;241;43m.\u001b[39;49m\u001b[43mcontains\u001b[49m\u001b[43m(\u001b[49m\u001b[43mdominio\u001b[49m\u001b[43m)\u001b[49m\u001b[43m \u001b[49m\u001b[43m,\u001b[49m\u001b[43m \u001b[49m\u001b[43memails\u001b[49m\u001b[43m)\u001b[49m\u001b[43m)\u001b[49m\n\u001b[0;32m      7\u001b[0m \u001b[38;5;28mprint\u001b[39m(filtro)\n",
      "Cell \u001b[1;32mIn[122], line 6\u001b[0m, in \u001b[0;36m<lambda>\u001b[1;34m(x)\u001b[0m\n\u001b[0;32m      3\u001b[0m emails \u001b[38;5;241m=\u001b[39m [\u001b[38;5;124m\"\u001b[39m\u001b[38;5;124mana@gmail.com\u001b[39m\u001b[38;5;124m\"\u001b[39m, \u001b[38;5;124m\"\u001b[39m\u001b[38;5;124mbruno@yahoo.com\u001b[39m\u001b[38;5;124m\"\u001b[39m, \u001b[38;5;124m\"\u001b[39m\u001b[38;5;124mcarla@gmail.com\u001b[39m\u001b[38;5;124m\"\u001b[39m, \u001b[38;5;124m\"\u001b[39m\u001b[38;5;124mdaniel@hotmail.com\u001b[39m\u001b[38;5;124m\"\u001b[39m]\n\u001b[0;32m      4\u001b[0m dominio \u001b[38;5;241m=\u001b[39m \u001b[38;5;124m\"\u001b[39m\u001b[38;5;124m@gmail.com\u001b[39m\u001b[38;5;124m\"\u001b[39m\n\u001b[1;32m----> 6\u001b[0m filtro \u001b[38;5;241m=\u001b[39m \u001b[38;5;28mlist\u001b[39m(\u001b[38;5;28mfilter\u001b[39m(\u001b[38;5;28;01mlambda\u001b[39;00m x: \u001b[43mx\u001b[49m\u001b[38;5;241;43m.\u001b[39;49m\u001b[43mcontains\u001b[49m(dominio) , emails))\n\u001b[0;32m      7\u001b[0m \u001b[38;5;28mprint\u001b[39m(filtro)\n",
      "\u001b[1;31mAttributeError\u001b[0m: 'str' object has no attribute 'contains'"
     ]
    }
   ],
   "source": [
    "#Exercício 4\n",
    "\n",
    "emails = [\"ana@gmail.com\", \"bruno@yahoo.com\", \"carla@gmail.com\", \"daniel@hotmail.com\"]\n",
    "dominio = \"@gmail.com\"\n",
    "\n",
    "filtro = list(filter(lambda x: x , emails))\n",
    "print(filtro)"
   ]
  }
 ],
 "metadata": {
  "kernelspec": {
   "display_name": "Python 3",
   "language": "python",
   "name": "python3"
  },
  "language_info": {
   "codemirror_mode": {
    "name": "ipython",
    "version": 3
   },
   "file_extension": ".py",
   "mimetype": "text/x-python",
   "name": "python",
   "nbconvert_exporter": "python",
   "pygments_lexer": "ipython3",
   "version": "3.12.3"
  }
 },
 "nbformat": 4,
 "nbformat_minor": 2
}
