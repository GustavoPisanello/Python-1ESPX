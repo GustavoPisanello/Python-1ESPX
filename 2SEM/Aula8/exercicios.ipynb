{
 "cells": [
  {
   "cell_type": "code",
   "execution_count": 10,
   "metadata": {},
   "outputs": [
    {
     "name": "stdout",
     "output_type": "stream",
     "text": [
      "1\n",
      "2\n",
      "3\n",
      "4\n",
      "5\n",
      "None\n"
     ]
    }
   ],
   "source": [
    "nums = []\n",
    "\n",
    "def Media():\n",
    "    for i in range(0, 5):\n",
    "        num = int(input(f\"Digite a {i+1}° nota: \"))\n",
    "        nums.append(num)\n",
    "        \n",
    "        soma = Plus(nums)\n",
    "        \n",
    "    print(soma)\n",
    "\n",
    "def Plus(x):\n",
    "    plus = 0\n",
    "    for i in x:\n",
    "        plus += 1\n",
    "    \n",
    "    return plus\n",
    "\n",
    "print(Media())"
   ]
  },
  {
   "cell_type": "code",
   "execution_count": 6,
   "metadata": {},
   "outputs": [],
   "source": [
    "import pandas as pd"
   ]
  },
  {
   "cell_type": "code",
   "execution_count": 11,
   "metadata": {},
   "outputs": [
    {
     "data": {
      "text/html": [
       "<div>\n",
       "<style scoped>\n",
       "    .dataframe tbody tr th:only-of-type {\n",
       "        vertical-align: middle;\n",
       "    }\n",
       "\n",
       "    .dataframe tbody tr th {\n",
       "        vertical-align: top;\n",
       "    }\n",
       "\n",
       "    .dataframe thead th {\n",
       "        text-align: right;\n",
       "    }\n",
       "</style>\n",
       "<table border=\"1\" class=\"dataframe\">\n",
       "  <thead>\n",
       "    <tr style=\"text-align: right;\">\n",
       "      <th></th>\n",
       "      <th>nome</th>\n",
       "      <th>idade</th>\n",
       "      <th>salario</th>\n",
       "    </tr>\n",
       "  </thead>\n",
       "  <tbody>\n",
       "    <tr>\n",
       "      <th>0</th>\n",
       "      <td>Alice</td>\n",
       "      <td>25</td>\n",
       "      <td>50000</td>\n",
       "    </tr>\n",
       "    <tr>\n",
       "      <th>1</th>\n",
       "      <td>Bob</td>\n",
       "      <td>30</td>\n",
       "      <td>60000</td>\n",
       "    </tr>\n",
       "    <tr>\n",
       "      <th>2</th>\n",
       "      <td>Charile</td>\n",
       "      <td>22</td>\n",
       "      <td>45000</td>\n",
       "    </tr>\n",
       "    <tr>\n",
       "      <th>3</th>\n",
       "      <td>David</td>\n",
       "      <td>28</td>\n",
       "      <td>55000</td>\n",
       "    </tr>\n",
       "    <tr>\n",
       "      <th>4</th>\n",
       "      <td>Charlotte</td>\n",
       "      <td>19</td>\n",
       "      <td>60000</td>\n",
       "    </tr>\n",
       "  </tbody>\n",
       "</table>\n",
       "</div>"
      ],
      "text/plain": [
       "        nome  idade  salario\n",
       "0      Alice     25    50000\n",
       "1        Bob     30    60000\n",
       "2    Charile     22    45000\n",
       "3      David     28    55000\n",
       "4  Charlotte     19    60000"
      ]
     },
     "execution_count": 11,
     "metadata": {},
     "output_type": "execute_result"
    }
   ],
   "source": [
    "dados = {'nome': ['Alice', 'Bob', 'Charile', 'David', 'Charlotte'],\n",
    "        'idade': [25, 30, 22, 28, 19],\n",
    "        'salario': [50000, 60000, 45000, 55000, 60000]\n",
    "}\n",
    "\n",
    "df = pd.DataFrame(dados)\n",
    "df"
   ]
  },
  {
   "cell_type": "code",
   "execution_count": null,
   "metadata": {},
   "outputs": [
    {
     "name": "stdout",
     "output_type": "stream",
     "text": [
      "Nome:  Alice | Idade:  25 | Salário: R$ 50000\n",
      "Nome:  Bob | Idade:  30 | Salário: R$ 60000\n",
      "Nome:  Charile | Idade:  22 | Salário: R$ 45000\n",
      "Nome:  David | Idade:  28 | Salário: R$ 55000\n",
      "Nome:  Charlotte | Idade:  19 | Salário: R$ 60000\n"
     ]
    }
   ],
   "source": [
    "i = 0\n",
    "while i < len(df):\n",
    "\n",
    "    if df['salario'][i] > 55000:\n",
    "        print(\"Nome: \", df['nome'][i], \"| Idade: \", df[\"idade\"][i], \"| Salário: R$\", df['salario'][i])\n",
    "    \n",
    "    i += 1"
   ]
  }
 ],
 "metadata": {
  "kernelspec": {
   "display_name": "Python 3",
   "language": "python",
   "name": "python3"
  },
  "language_info": {
   "codemirror_mode": {
    "name": "ipython",
    "version": 3
   },
   "file_extension": ".py",
   "mimetype": "text/x-python",
   "name": "python",
   "nbconvert_exporter": "python",
   "pygments_lexer": "ipython3",
   "version": "3.12.3"
  }
 },
 "nbformat": 4,
 "nbformat_minor": 2
}
