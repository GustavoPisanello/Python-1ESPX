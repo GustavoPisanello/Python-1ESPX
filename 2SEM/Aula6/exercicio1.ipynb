inputs = []

def Calculator():
    for i in range(1, 3):
        x = int(input(f"Digite o {i}° número: "))
        inputs.append(x)
    
    return Plus(inputs), Sub(inputs), Power(inputs), Div(inputs)

def Plus(x):
    sum = 0
    for i in x:
        sum += i
    
    return sum

def Sub(x):
    sub = x[0]
    i = 1

    while i < len(x):
        sub -= x[i]
        i += 1

    return sub

def Power(x):
    power = 1

    for i in x:
        power *= i
    
    return power

def Div(x):
    div = x[0]
    i = 1

    while i < len(x):
        div /= x[i]
        i+=1
    
    return div

w, x, y, z = Calculator()

print(f"\nO resultado da Soma é: {w}\n O resultado da subtração é: {x}\n O resultado da multiplicação é: {y}\n O resultado da divisão é: {z}")