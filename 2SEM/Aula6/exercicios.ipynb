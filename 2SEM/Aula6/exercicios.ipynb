{
 "cells": [
  {
   "cell_type": "code",
   "execution_count": 3,
   "metadata": {},
   "outputs": [
    {
     "name": "stdout",
     "output_type": "stream",
     "text": [
      "\n",
      "O resultado da Soma é: 50\n",
      " O resultado da subtração é: -30\n",
      " O resultado da multiplicação é: 100000\n",
      " O resultado da divisão é: 0.001\n"
     ]
    }
   ],
   "source": [
    "# Exercicio 1\n",
    "\n",
    "inputs = []\n",
    "\n",
    "def Calculator():\n",
    "    for i in range(1, 3):\n",
    "        x = int(input(f\"Digite o {i}° número: \"))\n",
    "        inputs.append(x)\n",
    "    \n",
    "    return Plus(inputs), Sub(inputs), Power(inputs), Div(inputs)\n",
    "\n",
    "def Plus(x):\n",
    "    sum = 0\n",
    "    for i in x:\n",
    "        sum += i\n",
    "    \n",
    "    return sum\n",
    "\n",
    "def Sub(x):\n",
    "    sub = x[0]\n",
    "    i = 1\n",
    "\n",
    "    while i < len(x):\n",
    "        sub -= x[i]\n",
    "        i += 1\n",
    "\n",
    "    return sub\n",
    "\n",
    "def Power(x):\n",
    "    power = 1\n",
    "\n",
    "    for i in x:\n",
    "        power *= i\n",
    "    \n",
    "    return power\n",
    "\n",
    "def Div(x):\n",
    "    div = x[0]\n",
    "    i = 1\n",
    "\n",
    "    while i < len(x):\n",
    "        div /= x[i]\n",
    "        i+=1\n",
    "    \n",
    "    return div\n",
    "\n",
    "w, x, y, z = Calculator()\n",
    "\n",
    "print(f\"\\nO resultado da Soma é: {w}\\n O resultado da subtração é: {x}\\n O resultado da multiplicação é: {y}\\n O resultado da divisão é: {z}\")"
   ]
  },
  {
   "cell_type": "code",
   "execution_count": null,
   "metadata": {},
   "outputs": [],
   "source": [
    "# Execício 2 \n",
    "\n",
    "def calcular_media(lista):\n",
    "  return sum(lista) / len(lista)\n",
    "\n",
    "def solicitar_informacao():\n",
    "  valores = []\n",
    "  estado = True\n",
    "  while estado:\n",
    "    valor = input('Insira um número: ')\n",
    "    valor = valor.lower()\n",
    "    if(valor == 'fim'):\n",
    "      estado = False\n",
    "      break\n",
    "    valores.append(float(valor))\n",
    "  return valores\n",
    "\n",
    "print(calcular_media(solicitar_informacao()))"
   ]
  },
  {
   "cell_type": "code",
   "execution_count": null,
   "metadata": {},
   "outputs": [],
   "source": []
  }
 ],
 "metadata": {
  "kernelspec": {
   "display_name": "Python 3",
   "language": "python",
   "name": "python3"
  },
  "language_info": {
   "codemirror_mode": {
    "name": "ipython",
    "version": 3
   },
   "file_extension": ".py",
   "mimetype": "text/x-python",
   "name": "python",
   "nbconvert_exporter": "python",
   "pygments_lexer": "ipython3",
   "version": "3.12.3"
  }
 },
 "nbformat": 4,
 "nbformat_minor": 2
}
