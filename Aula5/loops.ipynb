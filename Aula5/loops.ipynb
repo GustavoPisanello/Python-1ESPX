{
 "cells": [
  {
   "cell_type": "code",
   "execution_count": 1,
   "metadata": {},
   "outputs": [
    {
     "name": "stdout",
     "output_type": "stream",
     "text": [
      "1.0°C - 33.8°F\n",
      "32.0°C - 89.6°F\n"
     ]
    },
    {
     "ename": "ValueError",
     "evalue": "could not convert string to float: ''",
     "output_type": "error",
     "traceback": [
      "\u001b[1;31m---------------------------------------------------------------------------\u001b[0m",
      "\u001b[1;31mValueError\u001b[0m                                Traceback (most recent call last)",
      "Cell \u001b[1;32mIn[1], line 32\u001b[0m\n\u001b[0;32m     29\u001b[0m         \u001b[39mif\u001b[39;00m temp_c \u001b[39m==\u001b[39m \u001b[39m0\u001b[39m:\n\u001b[0;32m     30\u001b[0m             \u001b[39mbreak\u001b[39;00m\n\u001b[1;32m---> 32\u001b[0m Choose(x)\n",
      "Cell \u001b[1;32mIn[1], line 10\u001b[0m, in \u001b[0;36mChoose\u001b[1;34m(x)\u001b[0m\n\u001b[0;32m      8\u001b[0m     FtoC()\n\u001b[0;32m      9\u001b[0m \u001b[39mcase\u001b[39;00m \u001b[39m2\u001b[39m:\n\u001b[1;32m---> 10\u001b[0m     CtoF()\n\u001b[0;32m     11\u001b[0m \u001b[39mcase\u001b[39;00m\u001b[39m \u001b[39m\u001b[39m_\u001b[39;00m:\n\u001b[0;32m     12\u001b[0m     os\u001b[39m.\u001b[39msystem(\u001b[39m\"\u001b[39m\u001b[39mcls\u001b[39m\u001b[39m\"\u001b[39m)\n",
      "Cell \u001b[1;32mIn[1], line 26\u001b[0m, in \u001b[0;36mCtoF\u001b[1;34m()\u001b[0m\n\u001b[0;32m     24\u001b[0m \u001b[39mdef\u001b[39;00m \u001b[39mCtoF\u001b[39m():\n\u001b[0;32m     25\u001b[0m     \u001b[39mwhile\u001b[39;00m \u001b[39mTrue\u001b[39;00m:\n\u001b[1;32m---> 26\u001b[0m         temp_c \u001b[39m=\u001b[39m \u001b[39mfloat\u001b[39;49m(\u001b[39minput\u001b[39;49m(\u001b[39m\"\u001b[39;49m\u001b[39mInsira uma temperatura em Celsius: \u001b[39;49m\u001b[39m\"\u001b[39;49m))\n\u001b[0;32m     27\u001b[0m         temp_f \u001b[39m=\u001b[39m (temp_c \u001b[39m*\u001b[39m (\u001b[39m9\u001b[39m\u001b[39m/\u001b[39m\u001b[39m5\u001b[39m)) \u001b[39m+\u001b[39m \u001b[39m32\u001b[39m\n\u001b[0;32m     28\u001b[0m         \u001b[39mprint\u001b[39m(\u001b[39mf\u001b[39m\u001b[39m\"\u001b[39m\u001b[39m{\u001b[39;00mtemp_c\u001b[39m}\u001b[39;00m\u001b[39m°C - \u001b[39m\u001b[39m{\u001b[39;00m\u001b[39mround\u001b[39m(temp_f,\u001b[39m \u001b[39m\u001b[39m2\u001b[39m)\u001b[39m}\u001b[39;00m\u001b[39m°F\u001b[39m\u001b[39m\"\u001b[39m)\n",
      "\u001b[1;31mValueError\u001b[0m: could not convert string to float: ''"
     ]
    }
   ],
   "source": [
    "\n",
    "import os\n",
    "\n",
    "x = int(input(\"Digite sua opção: \\n 1. Fahrenheit para Celsius \\n 2. Celsius para Fahrenheit: \\n\"))\n",
    "\n",
    "def Choose(x):\n",
    "    match x:\n",
    "        case 1:\n",
    "            FtoC()\n",
    "        case 2:\n",
    "            CtoF()\n",
    "        case _:\n",
    "            os.system(\"cls\")\n",
    "            print(\"Digite uma opção válida!\")\n",
    "            Choose(x)\n",
    "        \n",
    "def FtoC():\n",
    "    while True:\n",
    "        temp_f = float(input(\"Insira um valor de temperatura: \"))\n",
    "        temp_c = (9/5) * (temp_f - 32)\n",
    "        print(f\"{temp_f}°F - {round(temp_c, 2)}°C\")\n",
    "        if temp_f == 0:\n",
    "            break\n",
    "\n",
    "def CtoF():\n",
    "    while True:\n",
    "        temp_c = float(input(\"Insira uma temperatura em Celsius: \"))\n",
    "        temp_f = (temp_c * (9/5)) + 32\n",
    "        print(f\"{temp_c}°C - {round(temp_f, 2)}°F\")\n",
    "        if temp_c == 0:\n",
    "            break\n",
    "\n",
    "Choose(x)"
   ]
  }
 ],
 "metadata": {
  "kernelspec": {
   "display_name": "Python 3",
   "language": "python",
   "name": "python3"
  },
  "language_info": {
   "codemirror_mode": {
    "name": "ipython",
    "version": 3
   },
   "file_extension": ".py",
   "mimetype": "text/x-python",
   "name": "python",
   "nbconvert_exporter": "python",
   "pygments_lexer": "ipython3",
   "version": "3.11.4"
  },
  "orig_nbformat": 4
 },
 "nbformat": 4,
 "nbformat_minor": 2
}
